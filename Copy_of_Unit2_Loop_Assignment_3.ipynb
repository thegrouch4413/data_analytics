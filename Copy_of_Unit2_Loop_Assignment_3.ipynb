{
  "nbformat": 4,
  "nbformat_minor": 0,
  "metadata": {
    "colab": {
      "name": "Copy of Unit2_Loop_Assignment_3.ipynb",
      "provenance": [],
      "collapsed_sections": [],
      "include_colab_link": true
    },
    "kernelspec": {
      "name": "python3",
      "display_name": "Python 3"
    }
  },
  "cells": [
    {
      "cell_type": "markdown",
      "metadata": {
        "id": "view-in-github",
        "colab_type": "text"
      },
      "source": [
        "<a href=\"https://colab.research.google.com/github/thegrouch4413/data_analytics/blob/main/Copy_of_Unit2_Loop_Assignment_3.ipynb\" target=\"_parent\"><img src=\"https://colab.research.google.com/assets/colab-badge.svg\" alt=\"Open In Colab\"/></a>"
      ]
    },
    {
      "cell_type": "markdown",
      "metadata": {
        "id": "Vgs8Kp4TidFQ"
      },
      "source": [
        "# Intrdouction to Python - Loop - Assignment #3 "
      ]
    },
    {
      "cell_type": "markdown",
      "metadata": {
        "id": "_Hq7Ny79iwgD"
      },
      "source": [
        "## 1. Create a list that holds 5 data variables. "
      ]
    },
    {
      "cell_type": "code",
      "metadata": {
        "id": "lotvpVpvlKsR"
      },
      "source": [
        "family_members = ['Dorothy','Charlene','Amara','Ian','Javier']"
      ],
      "execution_count": null,
      "outputs": []
    },
    {
      "cell_type": "code",
      "metadata": {
        "id": "oNXY-CfrlLbE"
      },
      "source": [
        "close_friends = ['Matthew','Jerzy','Luis','Vince','Chris']"
      ],
      "execution_count": null,
      "outputs": []
    },
    {
      "cell_type": "markdown",
      "metadata": {
        "id": "io_27RSlizno"
      },
      "source": [
        "## 2.\tPrint out those variables by using a for loop"
      ]
    },
    {
      "cell_type": "code",
      "metadata": {
        "id": "Dh1o5cAylSHB",
        "outputId": "75e22a28-c698-4757-9726-017d78aa2cdf",
        "colab": {
          "base_uri": "https://localhost:8080/"
        }
      },
      "source": [
        "family_members = ['Dorothy','Charlene','Amara','Ian','Javier']\n",
        "for members in family_members:\n",
        "  print(members)"
      ],
      "execution_count": null,
      "outputs": [
        {
          "output_type": "stream",
          "name": "stdout",
          "text": [
            "Dorothy\n",
            "Charlene\n",
            "Amara\n",
            "Ian\n",
            "Javier\n"
          ]
        }
      ]
    },
    {
      "cell_type": "code",
      "metadata": {
        "id": "vs8ppR-wlSKL",
        "outputId": "1dda5e51-1a0a-4b03-e69b-602a84825030",
        "colab": {
          "base_uri": "https://localhost:8080/"
        }
      },
      "source": [
        "close_friends = ['Matthew','Jerzy','Luis','Vince','Chris']\n",
        "for friends in close_friends:\n",
        "  print(friends)"
      ],
      "execution_count": null,
      "outputs": [
        {
          "output_type": "stream",
          "name": "stdout",
          "text": [
            "Matthew\n",
            "Jerzy\n",
            "Luis\n",
            "Vince\n",
            "Chris\n"
          ]
        }
      ]
    },
    {
      "cell_type": "markdown",
      "metadata": {
        "id": "DAW8m8IQjRyR"
      },
      "source": [
        "## 3.\tModify your for loop to add a message to your for loop."
      ]
    },
    {
      "cell_type": "code",
      "metadata": {
        "id": "guULMEhrjYtT",
        "outputId": "37d19cdc-86b5-43e7-8938-58b8e3815e7b",
        "colab": {
          "base_uri": "https://localhost:8080/"
        }
      },
      "source": [
        "family_members = ['Dorothy','Charlene','Amara','Ian','Javier']\n",
        "for members in family_members:\n",
        "  print(members+' is a part of my family.') "
      ],
      "execution_count": null,
      "outputs": [
        {
          "output_type": "stream",
          "name": "stdout",
          "text": [
            "Dorothy is a part of my family.\n",
            "Charlene is a part of my family.\n",
            "Amara is a part of my family.\n",
            "Ian is a part of my family.\n",
            "Javier is a part of my family.\n"
          ]
        }
      ]
    },
    {
      "cell_type": "code",
      "metadata": {
        "id": "cv946RaOjw-G",
        "outputId": "c7480ffd-80e0-40ec-f96b-264de8a6b680",
        "colab": {
          "base_uri": "https://localhost:8080/"
        }
      },
      "source": [
        "close_friends = ['Matthew','Jerzy','Luis','Vince','Chris']\n",
        "for friends in close_friends:\n",
        "  print(friends+' is one of my closest friends.')"
      ],
      "execution_count": null,
      "outputs": [
        {
          "output_type": "stream",
          "name": "stdout",
          "text": [
            "Matthew is one of my closest friends.\n",
            "Jerzy is one of my closest friends.\n",
            "Luis is one of my closest friends.\n",
            "Vince is one of my closest friends.\n",
            "Chris is one of my closest friends.\n"
          ]
        }
      ]
    },
    {
      "cell_type": "markdown",
      "metadata": {
        "id": "dpa_YOt4jXyo"
      },
      "source": [
        "## 4.\tUse a for loop to print even numbers from 1-20."
      ]
    },
    {
      "cell_type": "code",
      "metadata": {
        "id": "pltxfnh3iJLW",
        "outputId": "f42805dc-096f-47de-845b-3ad6fab067ec",
        "colab": {
          "base_uri": "https://localhost:8080/"
        }
      },
      "source": [
        "for num in range(2,21,2):\n",
        "  print(num)"
      ],
      "execution_count": null,
      "outputs": [
        {
          "output_type": "stream",
          "name": "stdout",
          "text": [
            "2\n",
            "4\n",
            "6\n",
            "8\n",
            "10\n",
            "12\n",
            "14\n",
            "16\n",
            "18\n",
            "20\n"
          ]
        }
      ]
    },
    {
      "cell_type": "markdown",
      "metadata": {
        "id": "Ka84RGy4jmLT"
      },
      "source": [
        "## 5.\tSort your list in alphabetic order."
      ]
    },
    {
      "cell_type": "code",
      "metadata": {
        "id": "34IFFtK4jrg4",
        "outputId": "e3e9b9c7-6af2-431b-baae-3634bb7020c2",
        "colab": {
          "base_uri": "https://localhost:8080/"
        }
      },
      "source": [
        "family_members = ['Dorothy','Charlene','Amara','Ian','Javier']\n",
        "family_members.sort()\n",
        "for members in family_members: \n",
        "  print(members)"
      ],
      "execution_count": null,
      "outputs": [
        {
          "output_type": "stream",
          "name": "stdout",
          "text": [
            "Amara\n",
            "Charlene\n",
            "Dorothy\n",
            "Ian\n",
            "Javier\n"
          ]
        }
      ]
    },
    {
      "cell_type": "code",
      "metadata": {
        "id": "M17RfxQljvqb",
        "outputId": "935d8d70-86e7-41d7-e1d0-8a7117550bff",
        "colab": {
          "base_uri": "https://localhost:8080/"
        }
      },
      "source": [
        "close_friends = ['Matthew','Jerzy','Luis','Vince','Chris']\n",
        "close_friends.sort()\n",
        "for friends in close_friends:\n",
        "  print(friends)"
      ],
      "execution_count": null,
      "outputs": [
        {
          "output_type": "stream",
          "name": "stdout",
          "text": [
            "Chris\n",
            "Jerzy\n",
            "Luis\n",
            "Matthew\n",
            "Vince\n"
          ]
        }
      ]
    },
    {
      "cell_type": "markdown",
      "metadata": {
        "id": "ZKHwdMnLliFy"
      },
      "source": [
        "## 6.\tPrint out the first three elements of your list."
      ]
    },
    {
      "cell_type": "code",
      "metadata": {
        "id": "4oNKGU70llVg",
        "outputId": "6db3d1d7-f437-4200-9db1-a79526210c4b",
        "colab": {
          "base_uri": "https://localhost:8080/"
        }
      },
      "source": [
        "family_members = ['Dorothy','Charlene','Amara','Ian','Javier']\n",
        "for members in family_members[:3]:\n",
        "  \n",
        "  print(members)"
      ],
      "execution_count": null,
      "outputs": [
        {
          "output_type": "stream",
          "name": "stdout",
          "text": [
            "Dorothy\n",
            "Charlene\n",
            "Amara\n"
          ]
        }
      ]
    },
    {
      "cell_type": "code",
      "metadata": {
        "id": "eXUDZfLOllTT",
        "outputId": "6ed7242e-82a0-4be3-9665-71d56a7e706f",
        "colab": {
          "base_uri": "https://localhost:8080/"
        }
      },
      "source": [
        "close_friends = ['Matthew','Jerzy','Luis','Vince','Chris']\n",
        "for friends in close_friends[0:3]:\n",
        "  print(friends)"
      ],
      "execution_count": null,
      "outputs": [
        {
          "output_type": "stream",
          "name": "stdout",
          "text": [
            "Matthew\n",
            "Jerzy\n",
            "Luis\n"
          ]
        }
      ]
    },
    {
      "cell_type": "markdown",
      "metadata": {
        "id": "oedkoLECmv6x"
      },
      "source": [
        "## 7.\tCreate a loop to print the last 2 elements of your list."
      ]
    },
    {
      "cell_type": "code",
      "metadata": {
        "id": "jjh2GdktllZY",
        "outputId": "e432d781-021b-4eee-a092-46cbbaab4770",
        "colab": {
          "base_uri": "https://localhost:8080/"
        }
      },
      "source": [
        "family_members = ['Dorothy','Charlene','Amara','Ian','Javier']\n",
        "for members in family_members[3:5]:\n",
        "  \n",
        "  print(members)"
      ],
      "execution_count": null,
      "outputs": [
        {
          "output_type": "stream",
          "name": "stdout",
          "text": [
            "Ian\n",
            "Javier\n"
          ]
        }
      ]
    },
    {
      "cell_type": "code",
      "metadata": {
        "id": "iHaRIrt8llcd",
        "outputId": "b6c59514-08a2-4b5a-9153-e193083bdee6",
        "colab": {
          "base_uri": "https://localhost:8080/"
        }
      },
      "source": [
        "close_friends = ['Matthew','Jerzy','Luis','Vince','Chris']\n",
        "for friends in close_friends[3:]:\n",
        "  print(friends)"
      ],
      "execution_count": null,
      "outputs": [
        {
          "output_type": "stream",
          "name": "stdout",
          "text": [
            "Vince\n",
            "Chris\n"
          ]
        }
      ]
    }
  ]
}