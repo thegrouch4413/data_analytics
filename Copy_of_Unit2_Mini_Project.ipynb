{
  "nbformat": 4,
  "nbformat_minor": 0,
  "metadata": {
    "colab": {
      "name": "Copy of Unit2_Mini_Project.ipynb",
      "provenance": [],
      "collapsed_sections": [],
      "toc_visible": true,
      "include_colab_link": true
    },
    "kernelspec": {
      "name": "python3",
      "display_name": "Python 3"
    }
  },
  "cells": [
    {
      "cell_type": "markdown",
      "metadata": {
        "id": "view-in-github",
        "colab_type": "text"
      },
      "source": [
        "<a href=\"https://colab.research.google.com/github/thegrouch4413/data_analytics/blob/main/Copy_of_Unit2_Mini_Project.ipynb\" target=\"_parent\"><img src=\"https://colab.research.google.com/assets/colab-badge.svg\" alt=\"Open In Colab\"/></a>"
      ]
    },
    {
      "cell_type": "markdown",
      "metadata": {
        "id": "Vgs8Kp4TidFQ"
      },
      "source": [
        "# Intrdouction to Python - Mini Project"
      ]
    },
    {
      "cell_type": "markdown",
      "metadata": {
        "id": "_Hq7Ny79iwgD"
      },
      "source": [
        "#Python Project – Odd or Even\n",
        "\n",
        "Ask the user for a number. Depending on whether the number is even or odd, print out an appropriate message to the user. Hint: how does an even / odd number react differently when divided by 2?\n"
      ]
    },
    {
      "cell_type": "code",
      "metadata": {
        "id": "lotvpVpvlKsR",
        "outputId": "d188c3fa-9ced-471f-9876-d8ffbe0905a3",
        "colab": {
          "base_uri": "https://localhost:8080/"
        }
      },
      "source": [
        "num = int(input('Please enter a number to determine if odd or even: '))\n",
        "\n",
        "if num % 2 == 0:\n",
        "  print('The number you entered is an even number!')\n",
        "else:\n",
        "  print('The number you entered is an odd number!')\n",
        "\n"
      ],
      "execution_count": null,
      "outputs": [
        {
          "output_type": "stream",
          "name": "stdout",
          "text": [
            "Please enter a number to determine if odd or even: 4\n",
            "The number you entered is an even number!\n"
          ]
        }
      ]
    },
    {
      "cell_type": "code",
      "metadata": {
        "id": "oNXY-CfrlLbE",
        "outputId": "e9eab425-9ba7-48f8-80ba-199353f35c61",
        "colab": {
          "base_uri": "https://localhost:8080/"
        }
      },
      "source": [
        "num = int(input('Please enter a number to determine if odd or even:'))\n",
        "\n",
        "if num % 2 == 0:\n",
        "  print('The number you entered is an even number!')\n",
        "else:\n",
        "  print('The number you entered is an odd number!')\n",
        "\n"
      ],
      "execution_count": null,
      "outputs": [
        {
          "output_type": "stream",
          "name": "stdout",
          "text": [
            "Please enter a number to determine if odd or even:7\n",
            "The number you entered is an odd number!\n"
          ]
        }
      ]
    },
    {
      "cell_type": "code",
      "metadata": {
        "id": "lyoaBLI8nvRT",
        "outputId": "75170298-e6f7-47d2-fd16-5279f70feba1",
        "colab": {
          "base_uri": "https://localhost:8080/"
        }
      },
      "source": [
        "num = int(input('Please enter a number to determine if odd or even: '))\n",
        "\n",
        "if num % 2 == 0:\n",
        "  print('The number you entered is an even number!')\n",
        "else:\n",
        "  print('The number you entered is an odd number!')"
      ],
      "execution_count": null,
      "outputs": [
        {
          "output_type": "stream",
          "name": "stdout",
          "text": [
            "Please enter a number to determine if odd or even: 23\n",
            "The number you entered is an odd number!\n"
          ]
        }
      ]
    },
    {
      "cell_type": "code",
      "metadata": {
        "id": "TuD1O2R0nvTd",
        "outputId": "a77f8271-9427-4401-aeda-d9cbf8fe0b6c",
        "colab": {
          "base_uri": "https://localhost:8080/"
        }
      },
      "source": [
        "num = int(input('Please enter a number to determine if odd or even: '))\n",
        "\n",
        "if num % 2 == 0:\n",
        "  print('The number you entered is an even number!')\n",
        "else:\n",
        "  print('The number you entered is an odd number!')"
      ],
      "execution_count": null,
      "outputs": [
        {
          "output_type": "stream",
          "name": "stdout",
          "text": [
            "Please enter a number to determine if odd or even: 124536\n",
            "The number you entered is an even number!\n"
          ]
        }
      ]
    },
    {
      "cell_type": "code",
      "metadata": {
        "id": "1uWxo8AxnvVN",
        "outputId": "d45c7366-35a7-43c3-a5cc-43060df30718",
        "colab": {
          "base_uri": "https://localhost:8080/"
        }
      },
      "source": [
        "num = int(input('Please enter a number to determine if odd or even: '))\n",
        "\n",
        "if num % 2 == 0:\n",
        "  print('The number you entered is an even number!')\n",
        "else:\n",
        "  print('The number you entered is an odd number!')"
      ],
      "execution_count": null,
      "outputs": [
        {
          "output_type": "stream",
          "name": "stdout",
          "text": [
            "Please enter a number to determine if odd or even: 125648973\n",
            "The number you entered is an odd number!\n"
          ]
        }
      ]
    },
    {
      "cell_type": "code",
      "metadata": {
        "id": "32ld2T0onvZE",
        "outputId": "93e70cf7-223d-4de9-c871-3d7df2a1dc38",
        "colab": {
          "base_uri": "https://localhost:8080/"
        }
      },
      "source": [
        "num = int(input('Please enter a number to determine if odd or even: '))\n",
        "\n",
        "if num % 2 == 0:\n",
        "  print('The number you entered is an even number!')\n",
        "else:\n",
        "  print('The number you entered is an odd number!')"
      ],
      "execution_count": null,
      "outputs": [
        {
          "output_type": "stream",
          "name": "stdout",
          "text": [
            "Please enter a number to determine if odd or even: 657724187354873215554\n",
            "The number you entered is an even number!\n"
          ]
        }
      ]
    },
    {
      "cell_type": "code",
      "metadata": {
        "id": "DGwOthAbnvaw",
        "outputId": "4ebd9cb3-4307-433a-a71f-dacb960e2c39",
        "colab": {
          "base_uri": "https://localhost:8080/"
        }
      },
      "source": [
        "num = int(input('Please enter a number to determine if odd or even: '))\n",
        "\n",
        "if num % 2 == 0:\n",
        "  print('The number you entered is an even number!')\n",
        "else:\n",
        "  print('The number you entered is an odd number!')"
      ],
      "execution_count": null,
      "outputs": [
        {
          "output_type": "stream",
          "name": "stdout",
          "text": [
            "Please enter a number to determine if odd or even: 0\n",
            "The number you entered is an even number!\n"
          ]
        }
      ]
    },
    {
      "cell_type": "code",
      "metadata": {
        "id": "6_iDEhq5nvd8",
        "outputId": "a50982bf-66c4-4919-b926-8dcba2b43107",
        "colab": {
          "base_uri": "https://localhost:8080/"
        }
      },
      "source": [
        "num = int(input('Please enter a number to determine if odd or even: '))\n",
        "\n",
        "if num % 2 == 0:\n",
        "  print('The number you entered is an even number!')\n",
        "else:\n",
        "  print('The number you entered is an odd number!')"
      ],
      "execution_count": null,
      "outputs": [
        {
          "output_type": "stream",
          "name": "stdout",
          "text": [
            "Please enter a number to determine if odd or even: 9\n",
            "The number you entered is an odd number!\n"
          ]
        }
      ]
    },
    {
      "cell_type": "markdown",
      "metadata": {
        "id": "io_27RSlizno"
      },
      "source": [
        "# Bonus:\n",
        "\n",
        "1.\tIf the number is a multiple of 4, print out a different message.\n",
        "\n",
        "2.\tAsk the user for two numbers: one number to check (call it num) and one number to divide by (check). If check divides evenly into num, tell that to the user. If not, print a different appropriate message.\n"
      ]
    },
    {
      "cell_type": "code",
      "metadata": {
        "id": "Dh1o5cAylSHB",
        "outputId": "24be194b-0fe7-4bb6-e27d-0122cdf9ecfd",
        "colab": {
          "base_uri": "https://localhost:8080/"
        }
      },
      "source": [
        "num = int(input('Please enter a number to determine if odd or even: '))\n",
        "\n",
        "if num & 1 == 1:\n",
        "  print('The number you entered is an odd number!')\n",
        "elif num % 4 == 0:\n",
        "  print('The numbered you entered is an even number and is divisible by 4!')\n",
        "else:\n",
        "  print('The number you entered is an even number!')"
      ],
      "execution_count": null,
      "outputs": [
        {
          "output_type": "stream",
          "name": "stdout",
          "text": [
            "Please enter a number to determine if odd or even: 12\n",
            "The numbered you entered is an even number and is divisible by 4!\n"
          ]
        }
      ]
    },
    {
      "cell_type": "code",
      "metadata": {
        "id": "vs8ppR-wlSKL",
        "outputId": "7827775b-9414-4970-abb0-6d0061bde065",
        "colab": {
          "base_uri": "https://localhost:8080/"
        }
      },
      "source": [
        "num = int(input('Please enter a number to determine if odd or even: '))\n",
        "\n",
        "if num & 1 == 1:\n",
        "  print('The number you entered is an odd number!')\n",
        "elif num % 4 == 0:\n",
        "  print('The numbered you entered is an even number and is divisible by 4!')\n",
        "else:\n",
        "  print('The number you entered is an even number!')"
      ],
      "execution_count": null,
      "outputs": [
        {
          "output_type": "stream",
          "name": "stdout",
          "text": [
            "Please enter a number to determine if odd or even: 6\n",
            "The number you entered is an even number!\n"
          ]
        }
      ]
    },
    {
      "cell_type": "code",
      "metadata": {
        "id": "5mkKtxzunuqc",
        "outputId": "0afbe16e-86f3-4287-b4b5-b6d01e7c213c",
        "colab": {
          "base_uri": "https://localhost:8080/"
        }
      },
      "source": [
        "num = int(input('Please enter a number to determine if odd or even: '))\n",
        "\n",
        "if num & 1 == 1:\n",
        "  print('The number you entered is an odd number!')\n",
        "elif num % 4 == 0:\n",
        "  print('The numbered you entered is an even number and is divisible by 4!')\n",
        "else:\n",
        "  print('The number you entered is an even number!')"
      ],
      "execution_count": null,
      "outputs": [
        {
          "output_type": "stream",
          "name": "stdout",
          "text": [
            "Please enter a number to determine if odd or even: 5\n",
            "The number you entered is an odd number!\n"
          ]
        }
      ]
    },
    {
      "cell_type": "code",
      "metadata": {
        "id": "rmfPnI5onutd",
        "outputId": "8aa6c3f5-1c84-461a-9d80-2ebcc12c8dfc",
        "colab": {
          "base_uri": "https://localhost:8080/"
        }
      },
      "source": [
        "num = int(input('Please enter a number: '))\n",
        "check = int(input(\"Now enter a number to see if the first number is evenly\\ndivided by it: \"))\n",
        "\n",
        "if num % check == 0:\n",
        "  print('Your numbers are evenly divisible!')\n",
        "else:\n",
        "  print('Your numbers are not evenly divisible.')"
      ],
      "execution_count": null,
      "outputs": [
        {
          "output_type": "stream",
          "name": "stdout",
          "text": [
            "Please enter a number: 12\n",
            "Now enter a number to see if the first number is evenly\n",
            "divided by it: 6\n",
            "Your numbers are evenly divisible!\n"
          ]
        }
      ]
    },
    {
      "cell_type": "code",
      "metadata": {
        "id": "6000qDkVnuxM",
        "outputId": "2a52f85c-c860-468f-a510-23eab3bacddc",
        "colab": {
          "base_uri": "https://localhost:8080/"
        }
      },
      "source": [
        "num = int(input('Please enter a number: '))\n",
        "check = int(input(\"Now enter a number to see if the first number is evenly\\ndivided by it: \"))\n",
        "\n",
        "if num % check == 0:\n",
        "  print('Your numbers are evenly divisible!')\n",
        "else:\n",
        "  print('Your numbers are not evenly divisible.')"
      ],
      "execution_count": null,
      "outputs": [
        {
          "output_type": "stream",
          "name": "stdout",
          "text": [
            "Please enter a number: 2345\n",
            "Now enter a number to see if the first number is evenly\n",
            "divided by it: 5\n",
            "Your numbers are evenly divisible!\n"
          ]
        }
      ]
    },
    {
      "cell_type": "code",
      "metadata": {
        "id": "X2X4dTbfnu0M",
        "outputId": "7b285665-8e02-48c2-f9d0-661ec4ec975e",
        "colab": {
          "base_uri": "https://localhost:8080/"
        }
      },
      "source": [
        "num = int(input('Please enter a number: '))\n",
        "check = int(input(\"Now enter a number to see if the first number is evenly\\ndivided by it: \"))\n",
        "\n",
        "if num % check == 0:\n",
        "  print('Your numbers are evenly divisible!')\n",
        "else:\n",
        "  print('Your numbers are not evenly divisible.')"
      ],
      "execution_count": null,
      "outputs": [
        {
          "output_type": "stream",
          "name": "stdout",
          "text": [
            "Please enter a number: 1723\n",
            "Now enter a number to see if the first number is evenly\n",
            "divided by it: 6\n",
            "Your numbers are not evenly divisible.\n"
          ]
        }
      ]
    }
  ]
}