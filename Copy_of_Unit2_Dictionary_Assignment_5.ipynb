{
  "nbformat": 4,
  "nbformat_minor": 0,
  "metadata": {
    "colab": {
      "name": "Copy of Unit2_Dictionary_Assignment_5.ipynb",
      "provenance": [],
      "collapsed_sections": [],
      "include_colab_link": true
    },
    "kernelspec": {
      "name": "python3",
      "display_name": "Python 3"
    }
  },
  "cells": [
    {
      "cell_type": "markdown",
      "metadata": {
        "id": "view-in-github",
        "colab_type": "text"
      },
      "source": [
        "<a href=\"https://colab.research.google.com/github/thegrouch4413/data_analytics/blob/main/Copy_of_Unit2_Dictionary_Assignment_5.ipynb\" target=\"_parent\"><img src=\"https://colab.research.google.com/assets/colab-badge.svg\" alt=\"Open In Colab\"/></a>"
      ]
    },
    {
      "cell_type": "markdown",
      "metadata": {
        "id": "Vgs8Kp4TidFQ"
      },
      "source": [
        "# Intrdouction to Python - Dictionary - Assignment #5 "
      ]
    },
    {
      "cell_type": "markdown",
      "metadata": {
        "id": "_Hq7Ny79iwgD"
      },
      "source": [
        "## 1.\tCreate a simple dictionary that stores 2 variables, for example: first and last name."
      ]
    },
    {
      "cell_type": "code",
      "metadata": {
        "id": "lotvpVpvlKsR"
      },
      "source": [
        "parent_1 = {'first_name':'Dorothy', 'last_name':'Pinzon'}"
      ],
      "execution_count": null,
      "outputs": []
    },
    {
      "cell_type": "code",
      "metadata": {
        "id": "oNXY-CfrlLbE"
      },
      "source": [
        "parent_2 = {'first_name':'Oscar','last_name':'Rivera'}"
      ],
      "execution_count": null,
      "outputs": []
    },
    {
      "cell_type": "markdown",
      "metadata": {
        "id": "io_27RSlizno"
      },
      "source": [
        "## 2.\tPrint out those variables stored in your previous dictionary. "
      ]
    },
    {
      "cell_type": "code",
      "metadata": {
        "id": "Dh1o5cAylSHB",
        "outputId": "48077fc1-6bac-4fef-ac4f-6dd96cc9a820",
        "colab": {
          "base_uri": "https://localhost:8080/"
        }
      },
      "source": [
        "parent_1 = {'first_name':'Dorothy', 'last_name':'Pinzon'}\n",
        "print(parent_1['first_name'])\n",
        "print(parent_1['last_name'])"
      ],
      "execution_count": null,
      "outputs": [
        {
          "output_type": "stream",
          "name": "stdout",
          "text": [
            "Dorothy\n",
            "Pinzon\n"
          ]
        }
      ]
    },
    {
      "cell_type": "code",
      "metadata": {
        "id": "vs8ppR-wlSKL",
        "outputId": "0276f089-6363-4d81-c7c8-4f45676cbdba",
        "colab": {
          "base_uri": "https://localhost:8080/"
        }
      },
      "source": [
        "parent_2 = {'first_name':'Oscar','last_name':'Rivera'}\n",
        "print(parent_2['first_name'])\n",
        "print(parent_2['last_name'])"
      ],
      "execution_count": null,
      "outputs": [
        {
          "output_type": "stream",
          "name": "stdout",
          "text": [
            "Oscar\n",
            "Rivera\n"
          ]
        }
      ]
    },
    {
      "cell_type": "markdown",
      "metadata": {
        "id": "DAW8m8IQjRyR"
      },
      "source": [
        "## 3.\tAdd a message to those variables on printing: for example: “Hello, firstname lastname!”"
      ]
    },
    {
      "cell_type": "code",
      "metadata": {
        "id": "guULMEhrjYtT",
        "outputId": "b970bd8a-21a4-4256-d7ec-c80700a681a8",
        "colab": {
          "base_uri": "https://localhost:8080/"
        }
      },
      "source": [
        "parent_name = parent_1['first_name']\n",
        "print(parent_name + ' is my mother.')"
      ],
      "execution_count": null,
      "outputs": [
        {
          "output_type": "stream",
          "name": "stdout",
          "text": [
            "Dorothy is my mother.\n"
          ]
        }
      ]
    },
    {
      "cell_type": "code",
      "metadata": {
        "id": "cv946RaOjw-G",
        "outputId": "d692ffdf-3d1d-4914-b4ca-73ac798cc66c",
        "colab": {
          "base_uri": "https://localhost:8080/"
        }
      },
      "source": [
        "parent_name = parent_2['first_name']\n",
        "print(parent_name + ' is my father.')"
      ],
      "execution_count": null,
      "outputs": [
        {
          "output_type": "stream",
          "name": "stdout",
          "text": [
            "Oscar is my father.\n"
          ]
        }
      ]
    },
    {
      "cell_type": "markdown",
      "metadata": {
        "id": "dpa_YOt4jXyo"
      },
      "source": [
        "## 4.\tCreate a dictionary that holds 2 key: value pairs:\n",
        "\n",
        "a.\tLook through your dictionary and print each pair,\n"
      ]
    },
    {
      "cell_type": "code",
      "metadata": {
        "id": "pltxfnh3iJLW",
        "outputId": "48744d8e-1aea-43ad-9df5-087fe7f23e63",
        "colab": {
          "base_uri": "https://localhost:8080/"
        }
      },
      "source": [
        "for key  in parent_1.items():\n",
        "  print('\\nkey:' + str(key))"
      ],
      "execution_count": null,
      "outputs": [
        {
          "output_type": "stream",
          "name": "stdout",
          "text": [
            "\n",
            "key:('first_name', 'Dorothy')\n",
            "\n",
            "key:('last_name', 'Pinzon')\n"
          ]
        }
      ]
    },
    {
      "cell_type": "code",
      "metadata": {
        "id": "PzH5Rcn-jwPL",
        "outputId": "9fa39525-6d55-4b1b-bd26-4aeb23c75585",
        "colab": {
          "base_uri": "https://localhost:8080/"
        }
      },
      "source": [
        "for key  in parent_2.items():\n",
        "  print('\\nkey:' + str(key))"
      ],
      "execution_count": null,
      "outputs": [
        {
          "output_type": "stream",
          "name": "stdout",
          "text": [
            "\n",
            "key:('first_name', 'Oscar')\n",
            "\n",
            "key:('last_name', 'Rivera')\n"
          ]
        }
      ]
    },
    {
      "cell_type": "code",
      "metadata": {
        "id": "34IFFtK4jrg4",
        "outputId": "c8b09793-8c09-43c5-de2a-044f066de78e",
        "colab": {
          "base_uri": "https://localhost:8080/"
        }
      },
      "source": [
        "uncle_1 = {'first_name':'Victor', 'last_name': 'Rivera'}\n",
        "for key  in uncle_1.items():\n",
        "  print('\\nkey:' + str(key))"
      ],
      "execution_count": null,
      "outputs": [
        {
          "output_type": "stream",
          "name": "stdout",
          "text": [
            "\n",
            "key:('first_name', 'Victor')\n",
            "\n",
            "key:('last_name', 'Rivera')\n"
          ]
        }
      ]
    },
    {
      "cell_type": "code",
      "metadata": {
        "id": "M17RfxQljvqb",
        "outputId": "22a36d50-8813-44ec-9c4f-f7818fb8fdb4",
        "colab": {
          "base_uri": "https://localhost:8080/"
        }
      },
      "source": [
        "uncle_2 =  {'first_name':'Joaquin', 'last_name': 'Pinzon'}\n",
        "for key  in uncle_2.items():\n",
        "  print('\\nkey:' + str(key))"
      ],
      "execution_count": null,
      "outputs": [
        {
          "output_type": "stream",
          "name": "stdout",
          "text": [
            "\n",
            "key:('first_name', 'Joaquin')\n",
            "\n",
            "key:('last_name', 'Pinzon')\n"
          ]
        }
      ]
    },
    {
      "cell_type": "code",
      "metadata": {
        "id": "4agTp_Cyju4-",
        "outputId": "4d93a6a3-49aa-4fa9-a0fe-b822dfddda85",
        "colab": {
          "base_uri": "https://localhost:8080/"
        }
      },
      "source": [
        "child_1 =  {'first_name':'Ian', 'last_name': 'Cenzano'}\n",
        "\n",
        "for key  in child_1.items():\n",
        "  print('\\nkey:' + str(key))"
      ],
      "execution_count": null,
      "outputs": [
        {
          "output_type": "stream",
          "name": "stdout",
          "text": [
            "\n",
            "key:('first_name', 'Ian')\n",
            "\n",
            "key:('last_name', 'Cenzano')\n"
          ]
        }
      ]
    },
    {
      "cell_type": "code",
      "metadata": {
        "id": "jjh2GdktllZY",
        "outputId": "55e9c136-dee5-4f64-8448-2a62fbf3c848",
        "colab": {
          "base_uri": "https://localhost:8080/"
        }
      },
      "source": [
        "child_2 =  {'first_name':'Javier', 'last_name': 'Rivera'}\n",
        "\n",
        "for key  in child_2.items():\n",
        "  print('\\nkey:' + str(key))"
      ],
      "execution_count": null,
      "outputs": [
        {
          "output_type": "stream",
          "name": "stdout",
          "text": [
            "\n",
            "key:('first_name', 'Javier')\n",
            "\n",
            "key:('last_name', 'Rivera')\n"
          ]
        }
      ]
    },
    {
      "cell_type": "code",
      "metadata": {
        "id": "iHaRIrt8llcd",
        "outputId": "45520a64-f377-44e9-d586-df524f50cac6",
        "colab": {
          "base_uri": "https://localhost:8080/"
        }
      },
      "source": [
        "child_3 =  {'first_name':'Amara', 'last_name': 'Rivera'}\n",
        "\n",
        "for key  in child_3.items():\n",
        "  print('\\nkey:' + str(key))"
      ],
      "execution_count": null,
      "outputs": [
        {
          "output_type": "stream",
          "name": "stdout",
          "text": [
            "\n",
            "key:('first_name', 'Amara')\n",
            "\n",
            "key:('last_name', 'Rivera')\n"
          ]
        }
      ]
    }
  ]
}